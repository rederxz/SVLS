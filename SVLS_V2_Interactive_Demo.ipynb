{
  "cells": [
    {
      "cell_type": "markdown",
      "metadata": {
        "id": "AQ5MCVytMBzZ"
      },
      "source": [
        "# Spatially Varying Label Smoothing: Capturing Uncertainty from Expert Annotations\n",
        "[Preprint](https://arxiv.org/pdf/2104.05788.pdf)\n",
        "[Code](https://github.com/mobarakol/SVLS)"
      ]
    },
    {
      "cell_type": "markdown",
      "metadata": {
        "id": "DiSbpb1EwjnY"
      },
      "source": [
        "Downloading SVLS and Surface Dice codes"
      ]
    },
    {
      "cell_type": "code",
      "execution_count": 1,
      "metadata": {
        "colab": {
          "base_uri": "https://localhost:8080/"
        },
        "id": "xFNfvBfdKsT7",
        "outputId": "5884d85a-f6ac-4bf0-eceb-8fc1f29864fb"
      },
      "outputs": [
        {
          "name": "stdout",
          "output_type": "stream",
          "text": [
            "Cloning into 'SVLS'...\n",
            "remote: Enumerating objects: 388, done.\u001b[K\n",
            "remote: Counting objects: 100% (388/388), done.\u001b[K\n",
            "remote: Compressing objects: 100% (50/50), done.\u001b[K\n",
            "remote: Total 388 (delta 345), reused 374 (delta 336), pack-reused 0\u001b[K\n",
            "Receiving objects: 100% (388/388), 63.35 KiB | 1.76 MiB/s, done.\n",
            "Resolving deltas: 100% (345/345), done.\n",
            "/content/SVLS\n",
            "Cloning into 'surface-distance'...\n",
            "remote: Enumerating objects: 45, done.\u001b[K\n",
            "remote: Counting objects: 100% (5/5), done.\u001b[K\n",
            "remote: Compressing objects: 100% (5/5), done.\u001b[K\n",
            "remote: Total 45 (delta 0), reused 2 (delta 0), pack-reused 40\u001b[K\n",
            "Unpacking objects: 100% (45/45), done.\n"
          ]
        }
      ],
      "source": [
        "!rm -rf SVLS\n",
        "!git clone https://github.com/mobarakol/SVLS.git\n",
        "%cd SVLS\n",
        "!git clone https://github.com/deepmind/surface-distance.git\n",
        "!mv surface-distance surface_distance"
      ]
    },
    {
      "cell_type": "markdown",
      "metadata": {
        "id": "QZNhk4-Od3FR"
      },
      "source": [
        "Install require packages:"
      ]
    },
    {
      "cell_type": "code",
      "execution_count": 2,
      "metadata": {
        "colab": {
          "base_uri": "https://localhost:8080/"
        },
        "id": "JdbUhZNUd6kl",
        "outputId": "08a7380a-0f91-483d-b5a1-75ef48cd0de2"
      },
      "outputs": [
        {
          "name": "stdout",
          "output_type": "stream",
          "text": [
            "\u001b[K     |████████████████████████████████| 48.4 MB 1.7 MB/s \n",
            "\u001b[?25h"
          ]
        }
      ],
      "source": [
        "!pip install -U -q SimpleITK"
      ]
    },
    {
      "cell_type": "markdown",
      "metadata": {
        "id": "FBq96oSpM7Da"
      },
      "source": [
        "### Download Dataset and Trained Models"
      ]
    },
    {
      "cell_type": "code",
      "execution_count": 4,
      "metadata": {
        "id": "keDB9x0yNH4J"
      },
      "outputs": [],
      "source": [
        "!pip install -U -q PyDrive\n",
        "from pydrive.auth import GoogleAuth\n",
        "from pydrive.drive import GoogleDrive\n",
        "from google.colab import auth\n",
        "from oauth2client.client import GoogleCredentials\n",
        "\n",
        "# Authenticate and create the PyDrive client.\n",
        "auth.authenticate_user()\n",
        "gauth = GoogleAuth()\n",
        "gauth.credentials = GoogleCredentials.get_application_default()\n",
        "drive = GoogleDrive(gauth)"
      ]
    },
    {
      "cell_type": "markdown",
      "metadata": {
        "id": "zgGSo3tNNwaF"
      },
      "source": [
        "Trained Models: https://drive.google.com/file/d/1evE2VqBGdY-0VPB8OeArHMPdRXhWuxFm/view?usp=sharing <br>\n",
        "Validation Data: https://drive.google.com/file/d/1oZ9z-l9lBjKGNZCCTK819Z1ufwe90mg3/view?usp=sharing"
      ]
    },
    {
      "cell_type": "code",
      "execution_count": 5,
      "metadata": {
        "id": "lhX7jTGxNxEr"
      },
      "outputs": [],
      "source": [
        "ids = ['1evE2VqBGdY-0VPB8OeArHMPdRXhWuxFm', '1oZ9z-l9lBjKGNZCCTK819Z1ufwe90mg3']\n",
        "zip_files = ['ckpt_brats19.zip','train_valid.zip']\n",
        "for id, zip_file in zip(ids, zip_files):\n",
        "    downloaded = drive.CreateFile({'id':id}) \n",
        "    downloaded.GetContentFile(zip_file)\n",
        "    !unzip -q $zip_file"
      ]
    },
    {
      "cell_type": "markdown",
      "metadata": {
        "id": "m0PdKAYPWBx8"
      },
      "source": [
        "Demo"
      ]
    },
    {
      "cell_type": "code",
      "execution_count": 7,
      "metadata": {
        "colab": {
          "base_uri": "https://localhost:8080/",
          "height": 516
        },
        "id": "ZkknSZEls29B",
        "outputId": "f14bb102-b3aa-40f5-9fa1-0e47c6b4d3e5"
      },
      "outputs": [
        {
          "name": "stdout",
          "output_type": "stream",
          "text": [
            "valid sample: 66 valid minibatch: 33\n",
            "model:best_oh.pth.tar , dice[ET:0.802 ± 0.179, TC:0.861 ± 0.128, WT:0.892 ± 0.074], ECE:0.0768, TACE:0.0041\n",
            "model:best_oh.pth.tar , Surface dice[ET:0.916 ± 0.196, TC:0.862 ± 0.181, WT:0.894 ± 0.147]\n",
            "model:best_ls0.1.pth.tar , dice[ET:0.825 ± 0.152, TC:0.873 ± 0.131, WT:0.892 ± 0.071], ECE:0.0659, TACE:0.0025\n",
            "model:best_ls0.1.pth.tar , Surface dice[ET:0.933 ± 0.169, TC:0.888 ± 0.175, WT:0.911 ± 0.121]\n",
            "model:best_ls0.2.pth.tar , dice[ET:0.819 ± 0.148, TC:0.861 ± 0.135, WT:0.892 ± 0.070], ECE:0.0931, TACE:0.0049\n",
            "model:best_ls0.2.pth.tar , Surface dice[ET:0.929 ± 0.185, TC:0.879 ± 0.183, WT:0.906 ± 0.127]\n",
            "model:best_ls0.3.pth.tar , dice[ET:0.788 ± 0.209, TC:0.858 ± 0.161, WT:0.891 ± 0.072], ECE:0.1467, TACE:0.0073\n",
            "model:best_ls0.3.pth.tar , Surface dice[ET:0.914 ± 0.195, TC:0.873 ± 0.188, WT:0.919 ± 0.113]\n",
            "model:best_svls.pth.tar , dice[ET:0.817 ± 0.138, TC:0.864 ± 0.118, WT:0.895 ± 0.064], ECE:0.0614, TACE:0.0040\n",
            "model:best_svls.pth.tar , Surface dice[ET:0.937 ± 0.161, TC:0.884 ± 0.160, WT:0.941 ± 0.082]\n",
            "model:best_svls_v2.pth.tar , dice[ET:0.827 ± 0.113, TC:0.865 ± 0.129, WT:0.899 ± 0.063], ECE:0.0604, TACE:0.0043\n",
            "model:best_svls_v2.pth.tar , Surface dice[ET:0.938 ± 0.153, TC:0.873 ± 0.177, WT:0.925 ± 0.100]\n"
          ]
        },
        {
          "data": {
            "image/png": "[encoded data removed]",
            "text/plain": [
              "<Figure size 432x288 with 1 Axes>"
            ]
          },
          "metadata": {
            "needs_background": "light"
          },
          "output_type": "display_data"
        }
      ],
      "source": [
        "import argparse\n",
        "import os\n",
        "import numpy as np\n",
        "import pathlib\n",
        "import torch\n",
        "from torch.nn import functional as F\n",
        "from model import UNet3D\n",
        "from datasets import get_datasets_brats\n",
        "from utils import seed_everything, EDiceLoss\n",
        "from calibration_metrics import ece_eval, tace_eval, reliability_diagram\n",
        "import warnings\n",
        "warnings.filterwarnings(\"ignore\")\n",
        "        \n",
        "def step_valid(data_loader, model, metric):\n",
        "    ece_all, acc_all, conf_all, tace_all = [], [], [], []\n",
        "    losses, metrics, metrics_sd = [], [], []\n",
        "    model.eval()\n",
        "    for i, batch in enumerate(data_loader):\n",
        "        targets = batch[\"label\"].squeeze(1).cuda(non_blocking=True)\n",
        "        inputs = batch[\"image\"].float().cuda()\n",
        "        segs = model(inputs)\n",
        "        outputs = F.softmax(segs, dim=1).detach().cpu().numpy()\n",
        "        if len(targets.shape) < 4:#if batch size=1\n",
        "            targets = targets.unsqueeze(0)\n",
        "        labels = targets.detach().cpu().numpy()\n",
        "        \n",
        "        ece, acc, conf, _ = ece_eval(outputs,labels)\n",
        "        tace, _, _, _ = tace_eval(outputs,labels)\n",
        "        ece_all.append(ece)\n",
        "        acc_all.append(acc)\n",
        "        conf_all.append(conf)\n",
        "        tace_all.append(tace)\n",
        "        segs = segs.data.max(1)[1].squeeze_(1)\n",
        "        metric_ = metric.metric_brats(segs, targets)\n",
        "        metrics_sd.extend(metric.get_surface_dice(segs.detach().cpu().numpy(), targets.detach().cpu().numpy()))\n",
        "        metrics.extend(metric_)\n",
        "\n",
        "    ece_avg = np.stack(ece_all).mean(0)\n",
        "    acc_avg = np.stack(acc_all).mean(0)\n",
        "    conf_avg = np.stack(conf_all).mean(0)\n",
        "    tace_avg = np.stack(tace_all).mean(0)\n",
        "    return metrics, metrics_sd, ece_avg, acc_avg, conf_avg, tace_avg\n",
        "    \n",
        "def main():\n",
        "    parser = argparse.ArgumentParser(description='SVLS Brats Training')\n",
        "    parser.add_argument('--batch_size', default=2, type=int,help='mini-batch size')\n",
        "    parser.add_argument('--num_classes', default=4, type=int, help=\"num of classes\")\n",
        "    parser.add_argument('--in_channels', default=4, type=int, help=\"num of input channels\")\n",
        "    parser.add_argument('--train_option', default='SVLS', help=\"options:[SVLS, LS, OH]\")\n",
        "    parser.add_argument('--epochs', default=200, type=int, help='number of total epochs to run')\n",
        "    parser.add_argument('--data_root', default='train_valid', help='data directory')\n",
        "    parser.add_argument('--ckpt_dir', default='ckpt_brats19', help='ckpt directory')\n",
        "    args = parser.parse_args(args=[]) \n",
        "\n",
        "    _, val_dataset = get_datasets_brats(data_root=args.data_root)\n",
        "    val_loader = torch.utils.data.DataLoader(val_dataset, batch_size=args.batch_size, shuffle=False,\n",
        "        pin_memory=False, num_workers=2)\n",
        "\n",
        "    print('valid sample:',len(val_dataset), 'valid minibatch:',len(val_loader))\n",
        "\n",
        "    model = UNet3D(inplanes=args.in_channels, num_classes=args.num_classes).cuda()\n",
        "\n",
        "    model = torch.nn.DataParallel(model)\n",
        "    criterion_dice = EDiceLoss().cuda()\n",
        "    \n",
        "    legends = ['OH', 'LS(0.1)', 'LS(0.2)', 'LS(0.3)', 'SVLS', 'SVLS_V2']\n",
        "    model_list = ['best_oh.pth.tar', 'best_ls0.1.pth.tar', 'best_ls0.2.pth.tar', 'best_ls0.3.pth.tar', 'best_svls.pth.tar', 'best_svls_v2.pth.tar']\n",
        "    # legends = ['SVLS_V2']\n",
        "    # model_list = ['best_svls_v2.pth.tar']\n",
        "    for model_name, legend in zip(model_list, legends):\n",
        "        state_dict = torch.load(os.path.join(args.ckpt_dir, model_name))\n",
        "        if 'state_dict' in state_dict.keys():\n",
        "          state_dict = state_dict['state_dict']\n",
        "        model.load_state_dict(state_dict)\n",
        "        model.eval()\n",
        "        with torch.no_grad():\n",
        "            dice_metrics, metrics_sd, ece_avg, acc_avg, conf_avg, tace_avg = step_valid(val_loader, model, criterion_dice)\n",
        "        if legend != 'LS(0.3)':\n",
        "            reliability_diagram(conf_avg, acc_avg, legend=legend)\n",
        "        dice_metrics = list(zip(*dice_metrics))\n",
        "        dice_metrics = [torch.tensor(dice, device=\"cpu\").numpy() for dice in dice_metrics]\n",
        "        avg_dices = np.mean(dice_metrics,1)\n",
        "        avg_std = np.std(dice_metrics,1)\n",
        "\n",
        "        metrics_sd = list(zip(*metrics_sd))\n",
        "        metrics_sd = [torch.tensor(dice, device=\"cpu\").numpy() for dice in metrics_sd]\n",
        "        avg_sd = np.mean(metrics_sd,1)\n",
        "        avg_std_sd = np.std(metrics_sd,1)\n",
        "\n",
        "        print('model:%s , dice[ET:%.3f ± %.3f, TC:%.3f ± %.3f, WT:%.3f ± %.3f], ECE:%.4f, TACE:%.4f'%(\n",
        "            model_name, avg_dices[0],avg_std[0], avg_dices[1],avg_std[1], avg_dices[2],avg_std[2], ece_avg, tace_avg))\n",
        "        \n",
        "        print('model:%s , Surface dice[ET:%.3f ± %.3f, TC:%.3f ± %.3f, WT:%.3f ± %.3f]'%(\n",
        "            model_name, avg_sd[0],avg_std_sd[0], avg_sd[1],avg_std_sd[1], avg_sd[2],avg_std_sd[2]))\n",
        "\n",
        "if __name__ == '__main__':\n",
        "    seed_everything()\n",
        "    main()\n"
      ]
    }
  ],
  "metadata": {
    "accelerator": "GPU",
    "colab": {
      "collapsed_sections": [],
      "name": "SVLS_Interactive_Demo.ipynb",
      "provenance": []
    },
    "kernelspec": {
      "display_name": "Python 3",
      "name": "python3"
    }
  },
  "nbformat": 4,
  "nbformat_minor": 0
}
